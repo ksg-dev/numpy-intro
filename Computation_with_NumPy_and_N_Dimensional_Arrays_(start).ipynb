{
  "cells": [
    {
      "cell_type": "markdown",
      "metadata": {
        "id": "t72p7Wvp8fKU"
      },
      "source": [
        "# Introduction\n",
        "\n",
        "In this notebook we'll learn how to use NumPy to work with numerical data. \n",
        "\n",
        "<img src=\"https://i.imgur.com/dZ1XE9o.png\" width=400>"
      ]
    },
    {
      "cell_type": "markdown",
      "metadata": {
        "id": "3j24xcmN8s1a"
      },
      "source": [
        "# Import Statements"
      ]
    },
    {
      "cell_type": "code",
      "execution_count": 1,
      "metadata": {},
      "outputs": [
        {
          "name": "stdout",
          "output_type": "stream",
          "text": [
            "Defaulting to user installation because normal site-packages is not writeable\n",
            "Requirement already satisfied: numpy in c:\\users\\ksgun\\appdata\\roaming\\python\\python311\\site-packages (2.1.0)\n",
            "Note: you may need to restart the kernel to use updated packages.\n"
          ]
        },
        {
          "name": "stderr",
          "output_type": "stream",
          "text": [
            "\n",
            "[notice] A new release of pip is available: 24.0 -> 24.2\n",
            "[notice] To update, run: python.exe -m pip install --upgrade pip\n"
          ]
        }
      ],
      "source": [
        "%pip install numpy"
      ]
    },
    {
      "cell_type": "code",
      "execution_count": 3,
      "metadata": {},
      "outputs": [
        {
          "name": "stdout",
          "output_type": "stream",
          "text": [
            "Defaulting to user installation because normal site-packages is not writeable\n",
            "Collecting scipy\n",
            "  Downloading scipy-1.14.1-cp311-cp311-win_amd64.whl.metadata (60 kB)\n",
            "     ---------------------------------------- 0.0/60.8 kB ? eta -:--:--\n",
            "     ------------ ------------------------- 20.5/60.8 kB 330.3 kB/s eta 0:00:01\n",
            "     -------------------------------- ----- 51.2/60.8 kB 525.1 kB/s eta 0:00:01\n",
            "     -------------------------------------- 60.8/60.8 kB 543.4 kB/s eta 0:00:00\n",
            "Requirement already satisfied: numpy<2.3,>=1.23.5 in c:\\users\\ksgun\\appdata\\roaming\\python\\python311\\site-packages (from scipy) (2.1.0)\n",
            "Downloading scipy-1.14.1-cp311-cp311-win_amd64.whl (44.8 MB)\n",
            "   ---------------------------------------- 0.0/44.8 MB ? eta -:--:--\n",
            "   ---------------------------------------- 0.1/44.8 MB 2.6 MB/s eta 0:00:17\n",
            "   ---------------------------------------- 0.2/44.8 MB 2.8 MB/s eta 0:00:17\n",
            "   ---------------------------------------- 0.4/44.8 MB 2.9 MB/s eta 0:00:16\n",
            "   ---------------------------------------- 0.5/44.8 MB 2.9 MB/s eta 0:00:16\n",
            "    --------------------------------------- 0.7/44.8 MB 3.0 MB/s eta 0:00:15\n",
            "    --------------------------------------- 0.8/44.8 MB 3.1 MB/s eta 0:00:15\n",
            "    --------------------------------------- 1.0/44.8 MB 3.3 MB/s eta 0:00:14\n",
            "   - -------------------------------------- 1.2/44.8 MB 3.3 MB/s eta 0:00:14\n",
            "   - -------------------------------------- 1.4/44.8 MB 3.4 MB/s eta 0:00:13\n",
            "   - -------------------------------------- 1.6/44.8 MB 3.5 MB/s eta 0:00:13\n",
            "   - -------------------------------------- 1.8/44.8 MB 3.6 MB/s eta 0:00:12\n",
            "   - -------------------------------------- 2.0/44.8 MB 3.7 MB/s eta 0:00:12\n",
            "   -- ------------------------------------- 2.3/44.8 MB 3.8 MB/s eta 0:00:12\n",
            "   -- ------------------------------------- 2.5/44.8 MB 3.9 MB/s eta 0:00:11\n",
            "   -- ------------------------------------- 2.8/44.8 MB 4.1 MB/s eta 0:00:11\n",
            "   -- ------------------------------------- 3.1/44.8 MB 4.2 MB/s eta 0:00:10\n",
            "   --- ------------------------------------ 3.4/44.8 MB 4.4 MB/s eta 0:00:10\n",
            "   --- ------------------------------------ 3.7/44.8 MB 4.5 MB/s eta 0:00:10\n",
            "   --- ------------------------------------ 4.1/44.8 MB 4.6 MB/s eta 0:00:09\n",
            "   --- ------------------------------------ 4.4/44.8 MB 4.8 MB/s eta 0:00:09\n",
            "   ---- ----------------------------------- 4.8/44.8 MB 4.9 MB/s eta 0:00:09\n",
            "   ---- ----------------------------------- 5.2/44.8 MB 5.1 MB/s eta 0:00:08\n",
            "   ----- ---------------------------------- 5.7/44.8 MB 5.3 MB/s eta 0:00:08\n",
            "   ----- ---------------------------------- 6.2/44.8 MB 5.5 MB/s eta 0:00:07\n",
            "   ----- ---------------------------------- 6.6/44.8 MB 5.7 MB/s eta 0:00:07\n",
            "   ------ --------------------------------- 7.2/44.8 MB 6.0 MB/s eta 0:00:07\n",
            "   ------ --------------------------------- 7.7/44.8 MB 6.1 MB/s eta 0:00:07\n",
            "   ------- -------------------------------- 8.3/44.8 MB 6.4 MB/s eta 0:00:06\n",
            "   ------- -------------------------------- 8.9/44.8 MB 6.6 MB/s eta 0:00:06\n",
            "   -------- ------------------------------- 9.7/44.8 MB 6.9 MB/s eta 0:00:06\n",
            "   --------- ------------------------------ 10.4/44.8 MB 7.4 MB/s eta 0:00:05\n",
            "   --------- ------------------------------ 11.1/44.8 MB 8.5 MB/s eta 0:00:04\n",
            "   ---------- ----------------------------- 11.9/44.8 MB 9.6 MB/s eta 0:00:04\n",
            "   ----------- ---------------------------- 12.7/44.8 MB 10.7 MB/s eta 0:00:03\n",
            "   ------------ --------------------------- 13.6/44.8 MB 12.1 MB/s eta 0:00:03\n",
            "   ------------ --------------------------- 14.6/44.8 MB 13.4 MB/s eta 0:00:03\n",
            "   ------------- -------------------------- 15.4/44.8 MB 14.5 MB/s eta 0:00:03\n",
            "   -------------- ------------------------- 16.5/44.8 MB 16.0 MB/s eta 0:00:02\n",
            "   --------------- ------------------------ 17.7/44.8 MB 17.7 MB/s eta 0:00:02\n",
            "   ---------------- ----------------------- 18.8/44.8 MB 18.7 MB/s eta 0:00:02\n",
            "   ------------------ --------------------- 20.2/44.8 MB 21.1 MB/s eta 0:00:02\n",
            "   ------------------- -------------------- 21.5/44.8 MB 22.6 MB/s eta 0:00:02\n",
            "   -------------------- ------------------- 22.9/44.8 MB 24.2 MB/s eta 0:00:01\n",
            "   --------------------- ------------------ 24.3/44.8 MB 26.2 MB/s eta 0:00:01\n",
            "   ---------------------- ----------------- 25.7/44.8 MB 27.3 MB/s eta 0:00:01\n",
            "   ------------------------ --------------- 27.1/44.8 MB 28.5 MB/s eta 0:00:01\n",
            "   ------------------------- -------------- 28.5/44.8 MB 29.8 MB/s eta 0:00:01\n",
            "   -------------------------- ------------- 29.7/44.8 MB 29.7 MB/s eta 0:00:01\n",
            "   --------------------------- ------------ 30.6/44.8 MB 28.5 MB/s eta 0:00:01\n",
            "   --------------------------- ------------ 31.3/44.8 MB 27.3 MB/s eta 0:00:01\n",
            "   ---------------------------- ----------- 32.3/44.8 MB 26.2 MB/s eta 0:00:01\n",
            "   ------------------------------ --------- 33.9/44.8 MB 26.2 MB/s eta 0:00:01\n",
            "   -------------------------------- ------- 35.8/44.8 MB 27.3 MB/s eta 0:00:01\n",
            "   --------------------------------- ------ 37.8/44.8 MB 29.8 MB/s eta 0:00:01\n",
            "   ----------------------------------- ---- 40.1/44.8 MB 32.8 MB/s eta 0:00:01\n",
            "   ------------------------------------- -- 42.3/44.8 MB 43.7 MB/s eta 0:00:01\n",
            "   ---------------------------------------  44.5/44.8 MB 46.7 MB/s eta 0:00:01\n",
            "   ---------------------------------------  44.8/44.8 MB 38.5 MB/s eta 0:00:01\n",
            "   ---------------------------------------  44.8/44.8 MB 38.5 MB/s eta 0:00:01\n",
            "   ---------------------------------------  44.8/44.8 MB 38.5 MB/s eta 0:00:01\n",
            "   ---------------------------------------- 44.8/44.8 MB 26.1 MB/s eta 0:00:00\n",
            "Installing collected packages: scipy\n",
            "Successfully installed scipy-1.14.1\n",
            "Note: you may need to restart the kernel to use updated packages.\n"
          ]
        },
        {
          "name": "stderr",
          "output_type": "stream",
          "text": [
            "\n",
            "[notice] A new release of pip is available: 24.0 -> 24.2\n",
            "[notice] To update, run: python.exe -m pip install --upgrade pip\n"
          ]
        }
      ],
      "source": [
        "%pip install scipy"
      ]
    },
    {
      "cell_type": "code",
      "execution_count": 4,
      "metadata": {
        "id": "b9YJCGC_8mhB"
      },
      "outputs": [],
      "source": [
        "import numpy as np\n",
        "\n",
        "import matplotlib.pyplot as plt\n",
        "from scipy import misc # contains an image of a racoon!\n",
        "from PIL import Image # for reading image files"
      ]
    },
    {
      "cell_type": "markdown",
      "metadata": {
        "id": "8vsW1z6o9RWD"
      },
      "source": [
        "# Understanding NumPy's ndarray\n",
        "\n",
        "NumPy's most amazing feature is the **powerful** ndarray.\n",
        "\n",
        "<img src=\"https://i.imgur.com/1IUqnxX.png\" width=200>"
      ]
    },
    {
      "cell_type": "markdown",
      "metadata": {
        "id": "d5g_jUKBAILK"
      },
      "source": [
        "#### 1-Dimensional Arrays (Vectors)"
      ]
    },
    {
      "cell_type": "code",
      "execution_count": 7,
      "metadata": {
        "id": "ITaA6vmejMNF",
        "tags": [
          "create array",
          "1D array"
        ]
      },
      "outputs": [],
      "source": [
        "# Create array\n",
        "my_array = np.array([1.1, 9.2, 8.1, 4.7])"
      ]
    },
    {
      "cell_type": "code",
      "execution_count": 6,
      "metadata": {
        "id": "Tq5KrExnjNn0",
        "tags": [
          "shape"
        ]
      },
      "outputs": [
        {
          "data": {
            "text/plain": [
              "(4,)"
            ]
          },
          "execution_count": 6,
          "metadata": {},
          "output_type": "execute_result"
        }
      ],
      "source": [
        "my_array.shape"
      ]
    },
    {
      "cell_type": "code",
      "execution_count": 8,
      "metadata": {
        "tags": [
          "select data in 1d array"
        ]
      },
      "outputs": [
        {
          "data": {
            "text/plain": [
              "np.float64(8.1)"
            ]
          },
          "execution_count": 8,
          "metadata": {},
          "output_type": "execute_result"
        }
      ],
      "source": [
        "# Accessing elements by index\n",
        "my_array[2]"
      ]
    },
    {
      "cell_type": "code",
      "execution_count": 9,
      "metadata": {
        "tags": [
          "ndim",
          "get dimensions"
        ]
      },
      "outputs": [
        {
          "data": {
            "text/plain": [
              "1"
            ]
          },
          "execution_count": 9,
          "metadata": {},
          "output_type": "execute_result"
        }
      ],
      "source": [
        "# Show dimensions of array\n",
        "my_array.ndim"
      ]
    },
    {
      "cell_type": "markdown",
      "metadata": {
        "id": "nZ8D4yr8ALzn"
      },
      "source": [
        "#### 2-Dimensional Arrays (Matrices)"
      ]
    },
    {
      "cell_type": "markdown",
      "metadata": {},
      "source": [
        "Note we have two pairs of square brackets. This array has 2 rows and 4 columns. NumPy refers to the dimensions as axes, so the first axis has length 2 and the second axis has length 4."
      ]
    },
    {
      "cell_type": "code",
      "execution_count": 10,
      "metadata": {
        "id": "97iTilPTAGpm",
        "tags": [
          "craete array",
          "create matrix",
          "2D array"
        ]
      },
      "outputs": [],
      "source": [
        "array_2d = np.array([[1, 2, 3, 9], \n",
        "                     [5, 6, 7, 8]])"
      ]
    },
    {
      "cell_type": "code",
      "execution_count": 13,
      "metadata": {
        "id": "885B89_IjFWr"
      },
      "outputs": [
        {
          "name": "stdout",
          "output_type": "stream",
          "text": [
            "array_2d has 2 dimensions\n",
            "Its shape is (2, 4)\n",
            "It has 2 rows and 4 columns\n",
            "[[1 2 3 9]\n",
            " [5 6 7 8]]\n"
          ]
        }
      ],
      "source": [
        "print(f\"array_2d has {array_2d.ndim} dimensions\")\n",
        "print(f\"Its shape is {array_2d.shape}\")\n",
        "print(f\"It has {array_2d.shape[0]} rows and {array_2d.shape[1]} columns\")\n",
        "print(array_2d)"
      ]
    },
    {
      "cell_type": "markdown",
      "metadata": {},
      "source": [
        "Again, you can access a particular row or a particular value with the square bracket notation. To access a particular value, you have to provide an index for each dimension. We have two dimensions, so we need to provide an index for the row and for the column. Here’s how to access the 3rd value in the 2nd row"
      ]
    },
    {
      "cell_type": "code",
      "execution_count": 15,
      "metadata": {
        "tags": [
          "select data in 2d array"
        ]
      },
      "outputs": [
        {
          "data": {
            "text/plain": [
              "np.int64(7)"
            ]
          },
          "execution_count": 15,
          "metadata": {},
          "output_type": "execute_result"
        }
      ],
      "source": [
        "# Access 3rd value in 2nd row\n",
        "array_2d[1,2]"
      ]
    },
    {
      "cell_type": "markdown",
      "metadata": {},
      "source": [
        "To access an entire row and all the values therein, you can use the : operator just like you would do with a Python List. Here’s the entire first row:"
      ]
    },
    {
      "cell_type": "code",
      "execution_count": 16,
      "metadata": {
        "tags": [
          "select row"
        ]
      },
      "outputs": [
        {
          "data": {
            "text/plain": [
              "array([1, 2, 3, 9])"
            ]
          },
          "execution_count": 16,
          "metadata": {},
          "output_type": "execute_result"
        }
      ],
      "source": [
        "# Access all values in first row\n",
        "array_2d[0, :]"
      ]
    },
    {
      "cell_type": "markdown",
      "metadata": {
        "id": "IxEF8DdRBHn5"
      },
      "source": [
        "#### N-Dimensional Arrays (Tensors)\n",
        "\n",
        "**Challenge**: \n",
        "* How many dimensions does the array below have? \n",
        "* What is its shape (i.e., how many elements are along each axis)?\n",
        "* Try to access the value `18` in the last line of code.\n",
        "* Try to retrieve a 1 dimensional vector with the values `[97, 0, 27, 18]`\n",
        "* Try to retrieve a (3,2) matrix with the values `[[ 0,  4], [ 7,  5], [ 5, 97]]`\n",
        "\n",
        "*Hint*: You can use the `:` operator just as with Python Lists."
      ]
    },
    {
      "cell_type": "code",
      "execution_count": 17,
      "metadata": {
        "id": "2ROMzYaxAgXC",
        "tags": [
          "create tensor"
        ]
      },
      "outputs": [],
      "source": [
        "mystery_array = np.array([[[0, 1, 2, 3],\n",
        "                           [4, 5, 6, 7]],\n",
        "                        \n",
        "                         [[7, 86, 6, 98],\n",
        "                          [5, 1, 0, 4]],\n",
        "                          \n",
        "                          [[5, 36, 32, 48],\n",
        "                           [97, 0, 27, 18]]])\n",
        "\n",
        "# Note all the square brackets!"
      ]
    },
    {
      "cell_type": "code",
      "execution_count": 23,
      "metadata": {
        "id": "s3-I3tYSjC1R"
      },
      "outputs": [
        {
          "data": {
            "text/plain": [
              "3"
            ]
          },
          "execution_count": 23,
          "metadata": {},
          "output_type": "execute_result"
        }
      ],
      "source": [
        "# Get dimensions\n",
        "mystery_array.ndim"
      ]
    },
    {
      "cell_type": "code",
      "execution_count": 24,
      "metadata": {},
      "outputs": [
        {
          "data": {
            "text/plain": [
              "(3, 2, 4)"
            ]
          },
          "execution_count": 24,
          "metadata": {},
          "output_type": "execute_result"
        }
      ],
      "source": [
        "# Get shape\n",
        "mystery_array.shape"
      ]
    },
    {
      "cell_type": "code",
      "execution_count": 27,
      "metadata": {
        "tags": [
          "select value in tensor"
        ]
      },
      "outputs": [
        {
          "data": {
            "text/plain": [
              "np.int64(18)"
            ]
          },
          "execution_count": 27,
          "metadata": {},
          "output_type": "execute_result"
        }
      ],
      "source": [
        "# Access 18 in last line of code\n",
        "mystery_array[2][1][3]"
      ]
    },
    {
      "cell_type": "code",
      "execution_count": 54,
      "metadata": {},
      "outputs": [
        {
          "data": {
            "text/plain": [
              "np.int64(18)"
            ]
          },
          "execution_count": 54,
          "metadata": {},
          "output_type": "execute_result"
        }
      ],
      "source": [
        "# This also works\n",
        "# Axis 0: 3rd element\n",
        "# Axis 1: 2nd element\n",
        "# Axis 2: 4th element\n",
        "mystery_array[2, 1, 3]"
      ]
    },
    {
      "cell_type": "code",
      "execution_count": 28,
      "metadata": {
        "tags": [
          "select vector in tensor"
        ]
      },
      "outputs": [
        {
          "data": {
            "text/plain": [
              "array([97,  0, 27, 18])"
            ]
          },
          "execution_count": 28,
          "metadata": {},
          "output_type": "execute_result"
        }
      ],
      "source": [
        "# Retrieve 1D vector [97, 0, 27, 18]\n",
        "mystery_array[2][1]"
      ]
    },
    {
      "cell_type": "code",
      "execution_count": 55,
      "metadata": {},
      "outputs": [
        {
          "data": {
            "text/plain": [
              "array([97,  0, 27, 18])"
            ]
          },
          "execution_count": 55,
          "metadata": {},
          "output_type": "execute_result"
        }
      ],
      "source": [
        "# This also works\n",
        "# Axis 0: 3rd element\n",
        "# Axis 1: 2nd element\n",
        "# Axis 2: all elements\n",
        "mystery_array[2, 1, :]"
      ]
    },
    {
      "cell_type": "markdown",
      "metadata": {},
      "source": [
        "How I found it: shape is 3, 2, 4. So below the slice is:\n",
        "(so 3 elements along axis 0, 2 elements along axis 1, 4 elements along axis 2)\n",
        "- In all 3 groups (so : with no range of numbers)\n",
        "- In both arrays within each group (so : with no range of numbers)\n",
        "- The number at position 0"
      ]
    },
    {
      "cell_type": "code",
      "execution_count": 56,
      "metadata": {
        "tags": [
          "get matrix from tensor",
          "select matrix"
        ]
      },
      "outputs": [
        {
          "data": {
            "text/plain": [
              "array([[ 0,  4],\n",
              "       [ 7,  5],\n",
              "       [ 5, 97]])"
            ]
          },
          "execution_count": 56,
          "metadata": {},
          "output_type": "execute_result"
        }
      ],
      "source": [
        "# Retrieve 2D matrix [[0, 4], [7, 5], [5, 97]]\n",
        "# Axis 0: all elements\n",
        "# Axis 1: all elements\n",
        "# Axis 2: 1st element\n",
        "mystery_array[:, :, 0]"
      ]
    },
    {
      "cell_type": "code",
      "execution_count": 3,
      "metadata": {
        "id": "AvUs5gRPjDIT"
      },
      "outputs": [],
      "source": []
    },
    {
      "cell_type": "code",
      "execution_count": 3,
      "metadata": {
        "id": "G3Ek8nDTjCvn"
      },
      "outputs": [],
      "source": []
    },
    {
      "cell_type": "code",
      "execution_count": 3,
      "metadata": {
        "id": "1SeRB6MejAbc"
      },
      "outputs": [],
      "source": []
    },
    {
      "cell_type": "markdown",
      "metadata": {
        "id": "xTclC9QMWaL3"
      },
      "source": [
        "# NumPy Mini-Challenges"
      ]
    },
    {
      "cell_type": "markdown",
      "metadata": {
        "id": "D5jAqudtWeTN"
      },
      "source": [
        "#### **Challenge 1**: Use [`.arange()`](https://numpy.org/devdocs/reference/generated/numpy.arange.html)to createa a vector `a` with values ranging from 10 to 29. You should get this:\n",
        "\n",
        "`print(a)`\n",
        "\n",
        "`[10 11 12 13 14 15 16 17 18 19 20 21 22 23 24 25 26 27 28 29]`"
      ]
    },
    {
      "cell_type": "code",
      "execution_count": 3,
      "metadata": {
        "id": "1bxtrVjJi83g"
      },
      "outputs": [],
      "source": []
    },
    {
      "cell_type": "markdown",
      "metadata": {
        "id": "duI_CwC5XmF_"
      },
      "source": [
        "#### **Challenge 2**: Use Python slicing techniques on `a` to:\n",
        "* Create an array containing only the last 3 values of `a`\n",
        "* Create a subset with only the 4th, 5th, and 6th values\n",
        "* Create a subset of `a` containing all the values except for the first 12 (i.e., `[22, 23, 24, 25, 26, 27, 28, 29]`)\n",
        "* Create a subset that only contains the even numbers (i.e, every second number)"
      ]
    },
    {
      "cell_type": "code",
      "execution_count": 3,
      "metadata": {
        "id": "oR2l2HMGi6mS"
      },
      "outputs": [],
      "source": []
    },
    {
      "cell_type": "markdown",
      "metadata": {
        "id": "G7UMQZjiYBjS"
      },
      "source": [
        "#### **Challenge 3**:Reverse the order of the values in `a`, so that the first element comes last:\n",
        "\n",
        "`[29, 28, 27, 26, 25, 24, 23, 22, 21, 20, 19, 18, 17, 16, 15, 14, 13,\n",
        "       12, 11, 10]`\n",
        "\n",
        "\n",
        "If you need a hint, you can check out this part of the [NumPy beginner's guide](\n",
        "https://numpy.org/devdocs/user/absolute_beginners.html#how-to-reverse-an-array)"
      ]
    },
    {
      "cell_type": "code",
      "execution_count": 3,
      "metadata": {
        "id": "nGmDLPK6i4Nk"
      },
      "outputs": [],
      "source": []
    },
    {
      "cell_type": "markdown",
      "metadata": {
        "id": "WBJJbWjKfULr"
      },
      "source": [
        "#### **Challenge 4**: Print out all the indices of the non-zero elements in this array: [6,0,9,0,0,5,0]"
      ]
    },
    {
      "cell_type": "code",
      "execution_count": 3,
      "metadata": {
        "id": "0J0gmKqsi25-"
      },
      "outputs": [],
      "source": []
    },
    {
      "cell_type": "markdown",
      "metadata": {
        "id": "LxorfXnOffUw"
      },
      "source": [
        "#### **Challenge 5**: Use NumPy to generate a 3x3x3 array with random numbers\n",
        "\n",
        "Hint: Use the [`.random()` function](https://numpy.org/doc/stable/reference/random/index.html?highlight=random#module-numpy.random)"
      ]
    },
    {
      "cell_type": "code",
      "execution_count": 3,
      "metadata": {
        "id": "2gIg5UsYi1CC"
      },
      "outputs": [],
      "source": []
    },
    {
      "cell_type": "markdown",
      "metadata": {
        "id": "ps1d14z7ovv1"
      },
      "source": [
        "#### **Challenge 6**: Use [`.linspace()`](https://numpy.org/doc/stable/reference/generated/numpy.linspace.html) to create a vector `x` of size 9 with values spaced out evenly between 0 to 100 (both included)."
      ]
    },
    {
      "cell_type": "code",
      "execution_count": 3,
      "metadata": {
        "id": "SB2lUDTBizzk"
      },
      "outputs": [],
      "source": []
    },
    {
      "cell_type": "markdown",
      "metadata": {
        "id": "GCSPVde3f0kE"
      },
      "source": [
        "#### **Challenge 7**: Use [`.linspace()`](https://numpy.org/doc/stable/reference/generated/numpy.linspace.html) to create another vector `y` of size 9 with values between -3 to 3 (both included). Then plot `x` and `y` on a line chart using Matplotlib."
      ]
    },
    {
      "cell_type": "code",
      "execution_count": 3,
      "metadata": {
        "id": "cIu8HlJFiyF9"
      },
      "outputs": [],
      "source": []
    },
    {
      "cell_type": "markdown",
      "metadata": {
        "id": "Wt5aIGQLlz5i"
      },
      "source": [
        "#### **Challenge 8**: Use NumPy to generate an array called `noise` with shape 128x128x3 that has random values. Then use Matplotlib's [`.imshow()`](https://matplotlib.org/3.1.1/api/_as_gen/matplotlib.pyplot.imshow.html) to display the array as an image. "
      ]
    },
    {
      "cell_type": "code",
      "execution_count": 3,
      "metadata": {
        "id": "_LSYx_fliwrw"
      },
      "outputs": [],
      "source": []
    },
    {
      "cell_type": "markdown",
      "metadata": {
        "id": "-O2acBSNX4o8"
      },
      "source": [
        "# Linear Algebra with Vectors"
      ]
    },
    {
      "cell_type": "code",
      "execution_count": 4,
      "metadata": {
        "id": "GbSwkEwHX9lb"
      },
      "outputs": [],
      "source": [
        "v1 = np.array([4, 5, 2, 7])\n",
        "v2 = np.array([2, 1, 3, 3])"
      ]
    },
    {
      "cell_type": "code",
      "execution_count": 5,
      "metadata": {
        "id": "vPa5kK-6fz1v"
      },
      "outputs": [],
      "source": [
        "# Python Lists vs ndarrays\n",
        "list1 = [4, 5, 2, 7]\n",
        "list2 = [2, 1, 3, 3]"
      ]
    },
    {
      "cell_type": "code",
      "execution_count": 5,
      "metadata": {
        "id": "DfPCOJqBiugK"
      },
      "outputs": [],
      "source": []
    },
    {
      "cell_type": "code",
      "execution_count": 5,
      "metadata": {
        "id": "AYNctOyniucr"
      },
      "outputs": [],
      "source": []
    },
    {
      "cell_type": "markdown",
      "metadata": {
        "id": "5lOo-ucJUhGx"
      },
      "source": [
        "# Broadcasting and Scalars\n"
      ]
    },
    {
      "cell_type": "code",
      "execution_count": 5,
      "metadata": {
        "id": "E_ooq80ziprz"
      },
      "outputs": [],
      "source": []
    },
    {
      "cell_type": "code",
      "execution_count": 5,
      "metadata": {
        "id": "gya2xlxxipoi"
      },
      "outputs": [],
      "source": []
    },
    {
      "cell_type": "code",
      "execution_count": 5,
      "metadata": {
        "id": "Lhmedp3Qil5I"
      },
      "outputs": [],
      "source": []
    },
    {
      "cell_type": "markdown",
      "metadata": {
        "id": "hVQLR4KamAFi"
      },
      "source": [
        "# Matrix Multiplication with @ and .matmul()\n",
        "\n",
        "<img src=https://i.imgur.com/LCdhmi8.png width=350>"
      ]
    },
    {
      "cell_type": "code",
      "execution_count": 6,
      "metadata": {
        "colab": {
          "base_uri": "https://localhost:8080/",
          "height": 68
        },
        "id": "8oeSWT7fk7u5",
        "outputId": "dff8c9eb-23ba-41d6-c9e6-c62158c9f178"
      },
      "outputs": [
        {
          "name": "stdout",
          "output_type": "stream",
          "text": [
            "(4, 2): a has 4 rows and 2 columns.\n",
            "(2, 3): b has 2 rows and 3 columns.\n",
            "Dimensions of result: (4x2)*(2x3)=(4x3)\n"
          ]
        }
      ],
      "source": [
        "a1 = np.array([[1, 3],\n",
        "               [0, 1],\n",
        "               [6, 2],\n",
        "               [9, 7]])\n",
        "\n",
        "b1 = np.array([[4, 1, 3],\n",
        "               [5, 8, 5]])\n",
        "\n",
        "print(f'{a1.shape}: a has {a1.shape[0]} rows and {a1.shape[1]} columns.')\n",
        "print(f'{b1.shape}: b has {b1.shape[0]} rows and {b1.shape[1]} columns.')\n",
        "print('Dimensions of result: (4x2)*(2x3)=(4x3)')"
      ]
    },
    {
      "cell_type": "markdown",
      "metadata": {
        "id": "LP2b396-n9wS"
      },
      "source": [
        "**Challenge**: Let's multiply `a1` with `b1`. Looking at the wikipedia example above, work out the values for c12 and c33 on paper. Then use the [`.matmul()`](https://numpy.org/doc/stable/reference/generated/numpy.matmul.html) function or the `@` operator to check your work. "
      ]
    },
    {
      "cell_type": "code",
      "execution_count": 6,
      "metadata": {
        "id": "a68V7SFpieg2"
      },
      "outputs": [],
      "source": []
    },
    {
      "cell_type": "code",
      "execution_count": 6,
      "metadata": {
        "id": "JvORXjfJiebH"
      },
      "outputs": [],
      "source": []
    },
    {
      "cell_type": "markdown",
      "metadata": {
        "id": "n8uiDqlb2pTO"
      },
      "source": [
        "# Manipulating Images as ndarrays\n"
      ]
    },
    {
      "cell_type": "code",
      "execution_count": 6,
      "metadata": {
        "id": "P1TS4QSqicaB"
      },
      "outputs": [],
      "source": []
    },
    {
      "cell_type": "code",
      "execution_count": 6,
      "metadata": {
        "id": "K-jub5UDicVw"
      },
      "outputs": [],
      "source": []
    },
    {
      "cell_type": "markdown",
      "metadata": {
        "id": "zCyCD3ia4J8A"
      },
      "source": [
        "**Challenge**: What is the data type of `img`? Also, what is the shape of `img` and how many dimensions does it have? What is the resolution of the image?"
      ]
    },
    {
      "cell_type": "code",
      "execution_count": 6,
      "metadata": {
        "id": "ElXYL8OZiZIu"
      },
      "outputs": [],
      "source": []
    },
    {
      "cell_type": "code",
      "execution_count": 6,
      "metadata": {
        "id": "xD7fwq2ViZWC"
      },
      "outputs": [],
      "source": []
    },
    {
      "cell_type": "code",
      "execution_count": 6,
      "metadata": {
        "id": "RvaHBCj8iZBp"
      },
      "outputs": [],
      "source": []
    },
    {
      "cell_type": "markdown",
      "metadata": {
        "id": "niXLlWOQ4Z8K"
      },
      "source": [
        "**Challenge**: Convert the image to black and white. The values in our `img` range from 0 to 255. \n",
        "* Divide all the values by 255 to convert them to sRGB, where all the values are between 0 and 1. \n",
        "* Next, multiply the sRGB array by the `grey_vals` to convert the image to grey scale. \n",
        "* Finally use Matplotlib's [`.imshow()`](https://matplotlib.org/3.1.1/api/_as_gen/matplotlib.pyplot.imshow.html) together with the colormap parameter set to gray `cmap=gray` to look at the results. "
      ]
    },
    {
      "cell_type": "code",
      "execution_count": 7,
      "metadata": {
        "id": "bkrNo4jI6e95"
      },
      "outputs": [],
      "source": [
        "grey_vals = np.array([0.2126, 0.7152, 0.0722])"
      ]
    },
    {
      "cell_type": "code",
      "execution_count": 7,
      "metadata": {
        "id": "xxsdG1eAiV_X"
      },
      "outputs": [],
      "source": []
    },
    {
      "cell_type": "code",
      "execution_count": 7,
      "metadata": {
        "id": "zaRdnvu3iVpt"
      },
      "outputs": [],
      "source": []
    },
    {
      "cell_type": "markdown",
      "metadata": {
        "id": "Gc32f7V77Myv"
      },
      "source": [
        "**Challenge**: Can you manipulate the images by doing some operations on the underlying ndarrays? See if you can change the values in the ndarray so that:\n",
        "\n",
        "1) You flip the grayscale image upside down\n",
        "\n",
        "<img src=https://i.imgur.com/r36CigD.png>\n",
        "\n",
        "2) Rotate the colour image\n",
        "\n",
        "<img src=https://i.imgur.com/IiNylco.png>\n",
        "\n",
        "3) Invert (i.e., solarize) the colour image. To do this you need to converting all the pixels to their \"opposite\" value, so black (0) becomes white (255).\n",
        "\n",
        "<img src=https://i.imgur.com/cfFbuex.png>"
      ]
    },
    {
      "cell_type": "markdown",
      "metadata": {
        "id": "O3B8TLSEXZtD"
      },
      "source": [
        "#### Challenge Solutions"
      ]
    },
    {
      "cell_type": "code",
      "execution_count": 7,
      "metadata": {
        "id": "vW0Aug3MiRgH"
      },
      "outputs": [],
      "source": []
    },
    {
      "cell_type": "code",
      "execution_count": null,
      "metadata": {
        "id": "_caHTOZ3jcRA"
      },
      "outputs": [],
      "source": []
    },
    {
      "cell_type": "markdown",
      "metadata": {
        "id": "4ymZ21DKbK9Q"
      },
      "source": [
        "# Use your Own Image!"
      ]
    },
    {
      "cell_type": "code",
      "execution_count": 8,
      "metadata": {
        "id": "CXZMwrxuV1q0"
      },
      "outputs": [],
      "source": [
        "file_name = 'yummy_macarons.jpg'"
      ]
    },
    {
      "cell_type": "code",
      "execution_count": null,
      "metadata": {
        "id": "kHkGg_T8jbdD"
      },
      "outputs": [],
      "source": []
    },
    {
      "cell_type": "markdown",
      "metadata": {
        "id": "hqoigjThfYJM"
      },
      "source": [
        "#### Use PIL to open "
      ]
    },
    {
      "cell_type": "code",
      "execution_count": 8,
      "metadata": {
        "id": "_1rCJzYQebOn"
      },
      "outputs": [],
      "source": []
    },
    {
      "cell_type": "code",
      "execution_count": null,
      "metadata": {
        "id": "30i9Xlu_jb0i"
      },
      "outputs": [],
      "source": []
    }
  ],
  "metadata": {
    "colab": {
      "name": "Computation with NumPy and N-Dimensional Arrays (start).ipynb",
      "provenance": [],
      "toc_visible": true
    },
    "kernelspec": {
      "display_name": "Python 3",
      "name": "python3"
    },
    "language_info": {
      "codemirror_mode": {
        "name": "ipython",
        "version": 3
      },
      "file_extension": ".py",
      "mimetype": "text/x-python",
      "name": "python",
      "nbconvert_exporter": "python",
      "pygments_lexer": "ipython3",
      "version": "3.11.9"
    }
  },
  "nbformat": 4,
  "nbformat_minor": 0
}
